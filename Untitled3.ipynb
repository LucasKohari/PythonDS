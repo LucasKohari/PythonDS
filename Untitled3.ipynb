{
  "nbformat": 4,
  "nbformat_minor": 0,
  "metadata": {
    "colab": {
      "name": "Untitled3.ipynb",
      "provenance": [],
      "collapsed_sections": [
        "J2vKCSbnTBWL",
        "-Ym3V0gKTqz9",
        "RHjodcAXUiiT",
        "FI6xZU-QV2A7",
        "iGsqqN9XX4oV",
        "REqDDeanZinZ",
        "K2n-qpDlgXzK",
        "Hx0oYnvPh8VM"
      ]
    },
    "kernelspec": {
      "name": "python3",
      "display_name": "Python 3"
    },
    "language_info": {
      "name": "python"
    }
  },
  "cells": [
    {
      "cell_type": "markdown",
      "source": [
        "# Python - Conversão de dados"
      ],
      "metadata": {
        "id": "J2vKCSbnTBWL"
      }
    },
    {
      "cell_type": "code",
      "execution_count": 12,
      "metadata": {
        "id": "wrmKhQuZSuPO"
      },
      "outputs": [],
      "source": [
        "#Converter um INT em STR para contatenar uma frase com numero.\n",
        "a = 'Programar é '\n",
        "b =' legal'\n",
        "c = 10\n",
        "d = 20\n"
      ]
    },
    {
      "cell_type": "code",
      "source": [
        "c + d"
      ],
      "metadata": {
        "colab": {
          "base_uri": "https://localhost:8080/"
        },
        "id": "zxPHYR88TN3x",
        "outputId": "47b0245c-6cf4-48a8-b96b-f565220008bf"
      },
      "execution_count": 5,
      "outputs": [
        {
          "output_type": "execute_result",
          "data": {
            "text/plain": [
              "30"
            ]
          },
          "metadata": {},
          "execution_count": 5
        }
      ]
    },
    {
      "cell_type": "code",
      "source": [
        "a + b"
      ],
      "metadata": {
        "colab": {
          "base_uri": "https://localhost:8080/",
          "height": 35
        },
        "id": "o7XoayLnTQO7",
        "outputId": "965e5064-4b67-4923-c368-a5c074fd0583"
      },
      "execution_count": 9,
      "outputs": [
        {
          "output_type": "execute_result",
          "data": {
            "text/plain": [
              "'Programar é legal'"
            ],
            "application/vnd.google.colaboratory.intrinsic+json": {
              "type": "string"
            }
          },
          "metadata": {},
          "execution_count": 9
        }
      ]
    },
    {
      "cell_type": "code",
      "source": [
        "str(c)"
      ],
      "metadata": {
        "colab": {
          "base_uri": "https://localhost:8080/",
          "height": 35
        },
        "id": "dcWp8tsqTZc1",
        "outputId": "f46bd30b-2300-4211-bb98-90f0e6f5dc01"
      },
      "execution_count": 10,
      "outputs": [
        {
          "output_type": "execute_result",
          "data": {
            "text/plain": [
              "'10'"
            ],
            "application/vnd.google.colaboratory.intrinsic+json": {
              "type": "string"
            }
          },
          "metadata": {},
          "execution_count": 10
        }
      ]
    },
    {
      "cell_type": "code",
      "source": [
        "a + str(c)"
      ],
      "metadata": {
        "colab": {
          "base_uri": "https://localhost:8080/",
          "height": 35
        },
        "id": "AnPiRUG3TeS0",
        "outputId": "4f6c1acf-cde2-4455-e103-f2136ef31d0f"
      },
      "execution_count": 13,
      "outputs": [
        {
          "output_type": "execute_result",
          "data": {
            "text/plain": [
              "'Programar é 10'"
            ],
            "application/vnd.google.colaboratory.intrinsic+json": {
              "type": "string"
            }
          },
          "metadata": {},
          "execution_count": 13
        }
      ]
    },
    {
      "cell_type": "code",
      "source": [
        ""
      ],
      "metadata": {
        "id": "kjIOBfLiTfst"
      },
      "execution_count": null,
      "outputs": []
    },
    {
      "cell_type": "markdown",
      "source": [
        "# Formatação f-String"
      ],
      "metadata": {
        "id": "-Ym3V0gKTqz9"
      }
    },
    {
      "cell_type": "code",
      "source": [
        "nome = 'Lucas'\n",
        "idade = 22\n",
        "print(f'Seja bem vindo {nome}, parabéns pelo seus {idade} anos ')"
      ],
      "metadata": {
        "colab": {
          "base_uri": "https://localhost:8080/"
        },
        "id": "NH6Ih71ST37B",
        "outputId": "00295ad6-dfc4-49bf-a947-ff0ddc625e0e"
      },
      "execution_count": 14,
      "outputs": [
        {
          "output_type": "stream",
          "name": "stdout",
          "text": [
            "Seja bem vindo Lucas, parabéns pelo seus 22 anos \n"
          ]
        }
      ]
    },
    {
      "cell_type": "code",
      "source": [
        ""
      ],
      "metadata": {
        "id": "Eq106lVjUERp"
      },
      "execution_count": null,
      "outputs": []
    },
    {
      "cell_type": "markdown",
      "source": [
        "# Operações com listas"
      ],
      "metadata": {
        "id": "RHjodcAXUiiT"
      }
    },
    {
      "cell_type": "code",
      "source": [
        "# X in A. Retorna True se um elemento da lista A for igual a x"
      ],
      "metadata": {
        "id": "tgQuu6YaUrCo"
      },
      "execution_count": null,
      "outputs": []
    },
    {
      "cell_type": "code",
      "source": [
        "Carro_1 = ['Jetta Variant', 'Motor 4.0 Turbo', 2003, 44410.0, False, ['Rodas de liga', 'Travas elétricas', 'Piloto automático'], 88078.64]\n",
        "Carro_2 = ['Passat', 'Motor Diesel', 1991, 5712.0, False, ['Central multimídia', 'Teto panorâmico', 'Freios ABS'], 106161.94]"
      ],
      "metadata": {
        "id": "oXhnozOhUrIB"
      },
      "execution_count": 16,
      "outputs": []
    },
    {
      "cell_type": "code",
      "source": [
        "1991 in Carro_1"
      ],
      "metadata": {
        "colab": {
          "base_uri": "https://localhost:8080/"
        },
        "id": "PT30VrTeUrMm",
        "outputId": "62f8e01c-1fd4-4483-f988-8c2225cce9b5"
      },
      "execution_count": 17,
      "outputs": [
        {
          "output_type": "execute_result",
          "data": {
            "text/plain": [
              "False"
            ]
          },
          "metadata": {},
          "execution_count": 17
        }
      ]
    },
    {
      "cell_type": "code",
      "source": [
        "2003 in Carro_1"
      ],
      "metadata": {
        "colab": {
          "base_uri": "https://localhost:8080/"
        },
        "id": "l4cGvm7zVGcq",
        "outputId": "51e94476-c6d7-476c-b44c-2a4e3cc5a0c7"
      },
      "execution_count": 18,
      "outputs": [
        {
          "output_type": "execute_result",
          "data": {
            "text/plain": [
              "True"
            ]
          },
          "metadata": {},
          "execution_count": 18
        }
      ]
    },
    {
      "cell_type": "code",
      "source": [
        ""
      ],
      "metadata": {
        "id": "EDIwaze4VJ0B"
      },
      "execution_count": null,
      "outputs": []
    },
    {
      "cell_type": "markdown",
      "source": [
        "Somando 2 listas"
      ],
      "metadata": {
        "id": "KT5ix-w_VNjr"
      }
    },
    {
      "cell_type": "code",
      "source": [
        "Carro_1 = ['Jetta Variant', 'Motor 4.0 Turbo', 2003, 44410.0, False, ['Rodas de liga', 'Travas elétricas', 'Piloto automático'], 88078.64]\n",
        "Carro_2 = ['Passat', 'Motor Diesel', 1991, 5712.0, False, ['Central multimídia', 'Teto panorâmico', 'Freios ABS'], 106161.94]"
      ],
      "metadata": {
        "id": "wSyCMm45VS4y"
      },
      "execution_count": 19,
      "outputs": []
    },
    {
      "cell_type": "code",
      "source": [
        "Soma = Carro_1 + Carro_2"
      ],
      "metadata": {
        "id": "7lGCddSNVard"
      },
      "execution_count": 20,
      "outputs": []
    },
    {
      "cell_type": "code",
      "source": [
        ""
      ],
      "metadata": {
        "id": "n7B2RqkWVavu"
      },
      "execution_count": null,
      "outputs": []
    },
    {
      "cell_type": "markdown",
      "source": [
        "len(A)"
      ],
      "metadata": {
        "id": "rOAtX9vmVhQ9"
      }
    },
    {
      "cell_type": "code",
      "source": [
        "len(Carro_1)"
      ],
      "metadata": {
        "colab": {
          "base_uri": "https://localhost:8080/"
        },
        "id": "Gf1_P81IVay5",
        "outputId": "169ac0a1-fb75-4b3b-8330-2638c5ad594a"
      },
      "execution_count": 22,
      "outputs": [
        {
          "output_type": "execute_result",
          "data": {
            "text/plain": [
              "7"
            ]
          },
          "metadata": {},
          "execution_count": 22
        }
      ]
    },
    {
      "cell_type": "code",
      "source": [
        ""
      ],
      "metadata": {
        "id": "Hz5agck2Va1R"
      },
      "execution_count": null,
      "outputs": []
    },
    {
      "cell_type": "markdown",
      "source": [
        "# Seleções em Listas"
      ],
      "metadata": {
        "id": "FI6xZU-QV2A7"
      }
    },
    {
      "cell_type": "code",
      "source": [
        "Carro_1 = ['Jetta Variant', 'Motor 4.0 Turbo', 2003, 44410.0, False, ['Rodas de liga', 'Travas elétricas', 'Piloto automático'], 88078.64]\n",
        "Carro_2 = ['Passat', 'Motor Diesel', 1991, 5712.0, False, ['Central multimídia', 'Teto panorâmico', 'Freios ABS'], 106161.94]\n"
      ],
      "metadata": {
        "id": "muet0LNRV4su"
      },
      "execution_count": 23,
      "outputs": []
    },
    {
      "cell_type": "code",
      "source": [
        "Carros = [Carro_1] + [Carro_2]\n",
        "Carros"
      ],
      "metadata": {
        "colab": {
          "base_uri": "https://localhost:8080/"
        },
        "id": "N_7jxey8V78_",
        "outputId": "c1cfb67f-506c-4536-cdfd-97c0af3ce405"
      },
      "execution_count": 25,
      "outputs": [
        {
          "output_type": "execute_result",
          "data": {
            "text/plain": [
              "[['Jetta Variant',\n",
              "  'Motor 4.0 Turbo',\n",
              "  2003,\n",
              "  44410.0,\n",
              "  False,\n",
              "  ['Rodas de liga', 'Travas elétricas', 'Piloto automático'],\n",
              "  88078.64],\n",
              " ['Passat',\n",
              "  'Motor Diesel',\n",
              "  1991,\n",
              "  5712.0,\n",
              "  False,\n",
              "  ['Central multimídia', 'Teto panorâmico', 'Freios ABS'],\n",
              "  106161.94]]"
            ]
          },
          "metadata": {},
          "execution_count": 25
        }
      ]
    },
    {
      "cell_type": "code",
      "source": [
        "# Mexendo dentro da lista para filtrar opções para trabalhar melhor com elas.\n",
        "Carros[0]"
      ],
      "metadata": {
        "colab": {
          "base_uri": "https://localhost:8080/"
        },
        "id": "-UAhPF6HV8Rq",
        "outputId": "e69be89b-8811-4cde-9a66-c0b7fd2fc61e"
      },
      "execution_count": 27,
      "outputs": [
        {
          "output_type": "execute_result",
          "data": {
            "text/plain": [
              "['Jetta Variant',\n",
              " 'Motor 4.0 Turbo',\n",
              " 2003,\n",
              " 44410.0,\n",
              " False,\n",
              " ['Rodas de liga', 'Travas elétricas', 'Piloto automático'],\n",
              " 88078.64]"
            ]
          },
          "metadata": {},
          "execution_count": 27
        }
      ]
    },
    {
      "cell_type": "code",
      "source": [
        "# o [0] quer dizer a primeira parte da lista , pois em Carros tem 2 listas.\n",
        "# o [2] em Carros logo dps de [0] quer dizer o item 2 ' 0, 1 , 2'\n",
        "Carros[0][2]"
      ],
      "metadata": {
        "colab": {
          "base_uri": "https://localhost:8080/"
        },
        "id": "8jZ5vBYEWQ60",
        "outputId": "76cdd57f-d6aa-4500-e8e6-eb770d3e4ad7"
      },
      "execution_count": 33,
      "outputs": [
        {
          "output_type": "execute_result",
          "data": {
            "text/plain": [
              "2003"
            ]
          },
          "metadata": {},
          "execution_count": 33
        }
      ]
    },
    {
      "cell_type": "code",
      "source": [
        "Carros[1]"
      ],
      "metadata": {
        "colab": {
          "base_uri": "https://localhost:8080/"
        },
        "id": "K_0ytXL2V8WG",
        "outputId": "65bc4758-3a46-4652-c96c-7ef015fd1f47"
      },
      "execution_count": 30,
      "outputs": [
        {
          "output_type": "execute_result",
          "data": {
            "text/plain": [
              "['Passat',\n",
              " 'Motor Diesel',\n",
              " 1991,\n",
              " 5712.0,\n",
              " False,\n",
              " ['Central multimídia', 'Teto panorâmico', 'Freios ABS'],\n",
              " 106161.94]"
            ]
          },
          "metadata": {},
          "execution_count": 30
        }
      ]
    },
    {
      "cell_type": "code",
      "source": [
        ""
      ],
      "metadata": {
        "id": "lWBpOUAgV8Y-"
      },
      "execution_count": null,
      "outputs": []
    },
    {
      "cell_type": "markdown",
      "source": [
        "\n",
        "\n",
        "A[ i : j ]\n",
        "\n"
      ],
      "metadata": {
        "id": "uHL4HQYHWrgf"
      }
    },
    {
      "cell_type": "code",
      "source": [
        "# Recorta a lista A do índice i até o j. Neste fatiamento o elemento com índice i é incluído e o elemento com índice j não é incluído no resultado."
      ],
      "metadata": {
        "id": "2KZeO8n_WyQO"
      },
      "execution_count": 38,
      "outputs": []
    },
    {
      "cell_type": "code",
      "execution_count": 37,
      "metadata": {
        "id": "aE4UWF10ltnS",
        "colab": {
          "base_uri": "https://localhost:8080/"
        },
        "outputId": "aff6b113-780d-4c18-e631-fe9d0a8683b8"
      },
      "outputs": [
        {
          "output_type": "execute_result",
          "data": {
            "text/plain": [
              "['Rodas de liga',\n",
              " 'Travas elétricas',\n",
              " 'Piloto automático',\n",
              " 'Bancos de couro',\n",
              " 'Ar condicionado',\n",
              " 'Sensor de estacionamento',\n",
              " 'Sensor crepuscular',\n",
              " 'Sensor de chuva']"
            ]
          },
          "metadata": {},
          "execution_count": 37
        }
      ],
      "source": [
        "Acessorios = ['Rodas de liga', 'Travas elétricas', 'Piloto automático', 'Bancos de couro', 'Ar condicionado', 'Sensor de estacionamento', 'Sensor crepuscular', 'Sensor de chuva']\n",
        "Acessorios"
      ]
    },
    {
      "cell_type": "code",
      "source": [
        "# igual aqui o 5 é 'Sensor de estacionamento ' , 7 é ' sensor de chuva ', porem no ultimo fatiamento ele e cortado e pega um elemento antes.\n",
        "Acessorios [5:7]"
      ],
      "metadata": {
        "colab": {
          "base_uri": "https://localhost:8080/"
        },
        "id": "cZdFg4gqW8v3",
        "outputId": "0e76320c-dfb1-4b1f-92b3-0740e9d71d38"
      },
      "execution_count": 41,
      "outputs": [
        {
          "output_type": "execute_result",
          "data": {
            "text/plain": [
              "['Sensor de estacionamento', 'Sensor crepuscular']"
            ]
          },
          "metadata": {},
          "execution_count": 41
        }
      ]
    },
    {
      "cell_type": "code",
      "source": [
        ""
      ],
      "metadata": {
        "id": "5kTtpi-YXZ-q"
      },
      "execution_count": null,
      "outputs": []
    },
    {
      "cell_type": "markdown",
      "source": [
        "# Metodos com Listas"
      ],
      "metadata": {
        "id": "iGsqqN9XX4oV"
      }
    },
    {
      "cell_type": "markdown",
      "source": [
        "A.sort()"
      ],
      "metadata": {
        "id": "w_0pd-LaYATV"
      }
    },
    {
      "cell_type": "code",
      "source": [
        "# ordena a lista"
      ],
      "metadata": {
        "id": "GAiHATJVX_q4"
      },
      "execution_count": 44,
      "outputs": []
    },
    {
      "cell_type": "code",
      "source": [
        "Acessorios.sort()\n",
        "Acessorios"
      ],
      "metadata": {
        "colab": {
          "base_uri": "https://localhost:8080/"
        },
        "id": "leh34HmrX_tj",
        "outputId": "13f22a20-91b4-4234-cf84-5cfdad6d23cc"
      },
      "execution_count": 43,
      "outputs": [
        {
          "output_type": "execute_result",
          "data": {
            "text/plain": [
              "['Ar condicionado',\n",
              " 'Bancos de couro',\n",
              " 'Piloto automático',\n",
              " 'Rodas de liga',\n",
              " 'Sensor crepuscular',\n",
              " 'Sensor de chuva',\n",
              " 'Sensor de estacionamento',\n",
              " 'Travas elétricas']"
            ]
          },
          "metadata": {},
          "execution_count": 43
        }
      ]
    },
    {
      "cell_type": "markdown",
      "source": [
        "A.append(x)"
      ],
      "metadata": {
        "id": "XkZIAXo3YU0n"
      }
    },
    {
      "cell_type": "code",
      "source": [
        "# Adiciona o elemnto x no final da lista A.\n",
        "# exemplo a lista acessorios vai ganhar um item chamado ' roda '\n",
        "Acessorios.append('roda')\n",
        "Acessorios"
      ],
      "metadata": {
        "colab": {
          "base_uri": "https://localhost:8080/"
        },
        "id": "1w_VQgO0X_wi",
        "outputId": "53a68c3b-9681-4623-c801-3e9d95f4aed5"
      },
      "execution_count": 47,
      "outputs": [
        {
          "output_type": "execute_result",
          "data": {
            "text/plain": [
              "['Ar condicionado',\n",
              " 'Bancos de couro',\n",
              " 'Piloto automático',\n",
              " 'Rodas de liga',\n",
              " 'Sensor crepuscular',\n",
              " 'Sensor de chuva',\n",
              " 'Sensor de estacionamento',\n",
              " 'Travas elétricas',\n",
              " 'roda',\n",
              " 'roda']"
            ]
          },
          "metadata": {},
          "execution_count": 47
        }
      ]
    },
    {
      "cell_type": "code",
      "source": [
        ""
      ],
      "metadata": {
        "id": "uHPgABLTYxvk"
      },
      "execution_count": null,
      "outputs": []
    },
    {
      "cell_type": "markdown",
      "source": [
        "A.pop()"
      ],
      "metadata": {
        "id": "u9-bp35nYzUb"
      }
    },
    {
      "cell_type": "code",
      "source": [
        "# pop exclui o ultimo item da lista\n",
        "# vamos excluir agora 'roda' da lista\n",
        "\n",
        "Acessorios"
      ],
      "metadata": {
        "colab": {
          "base_uri": "https://localhost:8080/"
        },
        "id": "F9lVpvV6Y1E8",
        "outputId": "0e5204fc-efaf-481f-e13c-2200755db157"
      },
      "execution_count": 49,
      "outputs": [
        {
          "output_type": "execute_result",
          "data": {
            "text/plain": [
              "['Ar condicionado',\n",
              " 'Bancos de couro',\n",
              " 'Piloto automático',\n",
              " 'Rodas de liga',\n",
              " 'Sensor crepuscular',\n",
              " 'Sensor de chuva',\n",
              " 'Sensor de estacionamento',\n",
              " 'Travas elétricas',\n",
              " 'roda']"
            ]
          },
          "metadata": {},
          "execution_count": 49
        }
      ]
    },
    {
      "cell_type": "code",
      "source": [
        "# ele ja retorna oque foi tirado quando voce o usa.\n",
        "Acessorios.pop()"
      ],
      "metadata": {
        "colab": {
          "base_uri": "https://localhost:8080/",
          "height": 35
        },
        "id": "Hb1nvt9sY7J9",
        "outputId": "b5e395a0-b67a-4b2b-e9cc-68e1af0ed947"
      },
      "execution_count": 50,
      "outputs": [
        {
          "output_type": "execute_result",
          "data": {
            "text/plain": [
              "'roda'"
            ],
            "application/vnd.google.colaboratory.intrinsic+json": {
              "type": "string"
            }
          },
          "metadata": {},
          "execution_count": 50
        }
      ]
    },
    {
      "cell_type": "code",
      "source": [
        "Acessorios"
      ],
      "metadata": {
        "colab": {
          "base_uri": "https://localhost:8080/"
        },
        "id": "tdU2R7DdY8fW",
        "outputId": "56668978-c8ae-4faa-f6c9-b161be43b7d4"
      },
      "execution_count": 51,
      "outputs": [
        {
          "output_type": "execute_result",
          "data": {
            "text/plain": [
              "['Ar condicionado',\n",
              " 'Bancos de couro',\n",
              " 'Piloto automático',\n",
              " 'Rodas de liga',\n",
              " 'Sensor crepuscular',\n",
              " 'Sensor de chuva',\n",
              " 'Sensor de estacionamento',\n",
              " 'Travas elétricas']"
            ]
          },
          "metadata": {},
          "execution_count": 51
        }
      ]
    },
    {
      "cell_type": "code",
      "source": [
        ""
      ],
      "metadata": {
        "id": "Kwy8rukTY9nO"
      },
      "execution_count": null,
      "outputs": []
    },
    {
      "cell_type": "markdown",
      "source": [
        "A.copy()"
      ],
      "metadata": {
        "id": "XbP62EJDZCoR"
      }
    },
    {
      "cell_type": "code",
      "source": [
        "# Caso vc precise mexer em uma lista, mas não quer a alterar basta usar o copy.\n",
        "# Tudo oque eu fazer no item com copy não vai alterar sua versão original\n",
        "Acessorios2 = Acessorios.copy()\n",
        "Acessorios2.pop()"
      ],
      "metadata": {
        "colab": {
          "base_uri": "https://localhost:8080/",
          "height": 35
        },
        "id": "se5PmCrGZEkg",
        "outputId": "a5df7b8a-9cdc-476c-9aff-283a05738f87"
      },
      "execution_count": 53,
      "outputs": [
        {
          "output_type": "execute_result",
          "data": {
            "text/plain": [
              "'Travas elétricas'"
            ],
            "application/vnd.google.colaboratory.intrinsic+json": {
              "type": "string"
            }
          },
          "metadata": {},
          "execution_count": 53
        }
      ]
    },
    {
      "cell_type": "code",
      "source": [
        "Acessorios2"
      ],
      "metadata": {
        "colab": {
          "base_uri": "https://localhost:8080/"
        },
        "id": "HweMu9NDZLzB",
        "outputId": "34acabff-cb02-4ebf-ae0e-bd0bf5ecb85c"
      },
      "execution_count": 54,
      "outputs": [
        {
          "output_type": "execute_result",
          "data": {
            "text/plain": [
              "['Ar condicionado',\n",
              " 'Bancos de couro',\n",
              " 'Piloto automático',\n",
              " 'Rodas de liga',\n",
              " 'Sensor crepuscular',\n",
              " 'Sensor de chuva',\n",
              " 'Sensor de estacionamento']"
            ]
          },
          "metadata": {},
          "execution_count": 54
        }
      ]
    },
    {
      "cell_type": "code",
      "source": [
        "Acessorios"
      ],
      "metadata": {
        "colab": {
          "base_uri": "https://localhost:8080/"
        },
        "id": "LeKfV0Y9ZTto",
        "outputId": "3839919a-5684-411d-df96-dc6dc50ff5a4"
      },
      "execution_count": 55,
      "outputs": [
        {
          "output_type": "execute_result",
          "data": {
            "text/plain": [
              "['Ar condicionado',\n",
              " 'Bancos de couro',\n",
              " 'Piloto automático',\n",
              " 'Rodas de liga',\n",
              " 'Sensor crepuscular',\n",
              " 'Sensor de chuva',\n",
              " 'Sensor de estacionamento',\n",
              " 'Travas elétricas']"
            ]
          },
          "metadata": {},
          "execution_count": 55
        }
      ]
    },
    {
      "cell_type": "code",
      "source": [
        "#So notar que o item 'Travas Elétricas' foi retirado apenas da copy, caso eu adicionasse item ou fizesse qualquer coisa não iria interferir na versao original.\n"
      ],
      "metadata": {
        "id": "AYUakYthZUxI"
      },
      "execution_count": 56,
      "outputs": []
    },
    {
      "cell_type": "code",
      "source": [
        ""
      ],
      "metadata": {
        "id": "Z3ZWAE58Zf6z"
      },
      "execution_count": null,
      "outputs": []
    },
    {
      "cell_type": "markdown",
      "source": [
        "# ESTRUTURAS DE REPETIÇÃO E CONDICIONAIS"
      ],
      "metadata": {
        "id": "REqDDeanZinZ"
      }
    },
    {
      "cell_type": "code",
      "source": [
        "Cores_mtg = ['Blue', 'Red', 'Green', 'Black', 'White']\n",
        "Cores_mtg\n",
        "for item in Cores_mtg:\n",
        "  print(item)"
      ],
      "metadata": {
        "colab": {
          "base_uri": "https://localhost:8080/"
        },
        "id": "hgZVePbFZj7L",
        "outputId": "58c02887-3c9a-48f2-80fb-201413b3cc7c"
      },
      "execution_count": 57,
      "outputs": [
        {
          "output_type": "stream",
          "name": "stdout",
          "text": [
            "Blue\n",
            "Red\n",
            "Green\n",
            "Black\n",
            "White\n"
          ]
        }
      ]
    },
    {
      "cell_type": "code",
      "source": [
        "# utilizando o list comprehensions, tudo em uma unica linha\n",
        "[item for item in Cores_mtg ]"
      ],
      "metadata": {
        "colab": {
          "base_uri": "https://localhost:8080/"
        },
        "id": "SphHyLTpfFNM",
        "outputId": "c43d4f9c-2ac8-4d55-ec86-3fbbac25e64d"
      },
      "execution_count": 58,
      "outputs": [
        {
          "output_type": "execute_result",
          "data": {
            "text/plain": [
              "['Blue', 'Red', 'Green', 'Black', 'White']"
            ]
          },
          "metadata": {},
          "execution_count": 58
        }
      ]
    },
    {
      "cell_type": "code",
      "source": [
        "# Loops aninhados\n"
      ],
      "metadata": {
        "id": "lTa6-fqpfTZl"
      },
      "execution_count": null,
      "outputs": []
    },
    {
      "cell_type": "code",
      "execution_count": 59,
      "metadata": {
        "id": "mjgJCo3dlton",
        "colab": {
          "base_uri": "https://localhost:8080/"
        },
        "outputId": "53733586-77b0-4aa5-bb0c-5fa277a122f9"
      },
      "outputs": [
        {
          "output_type": "execute_result",
          "data": {
            "text/plain": [
              "[['Rodas de liga',\n",
              "  'Travas elétricas',\n",
              "  'Piloto automático',\n",
              "  'Bancos de couro',\n",
              "  'Ar condicionado',\n",
              "  'Sensor de estacionamento',\n",
              "  'Sensor crepuscular',\n",
              "  'Sensor de chuva'],\n",
              " ['Central multimídia',\n",
              "  'Teto panorâmico',\n",
              "  'Freios ABS',\n",
              "  '4 X 4',\n",
              "  'Painel digital',\n",
              "  'Piloto automático',\n",
              "  'Bancos de couro',\n",
              "  'Câmera de estacionamento'],\n",
              " ['Piloto automático',\n",
              "  'Controle de estabilidade',\n",
              "  'Sensor crepuscular',\n",
              "  'Freios ABS',\n",
              "  'Câmbio automático',\n",
              "  'Bancos de couro',\n",
              "  'Central multimídia',\n",
              "  'Vidros elétricos']]"
            ]
          },
          "metadata": {},
          "execution_count": 59
        }
      ],
      "source": [
        "dados = [ \n",
        "    ['Rodas de liga', 'Travas elétricas', 'Piloto automático', 'Bancos de couro', 'Ar condicionado', 'Sensor de estacionamento', 'Sensor crepuscular', 'Sensor de chuva'],\n",
        "    ['Central multimídia', 'Teto panorâmico', 'Freios ABS', '4 X 4', 'Painel digital', 'Piloto automático', 'Bancos de couro', 'Câmera de estacionamento'],\n",
        "    ['Piloto automático', 'Controle de estabilidade', 'Sensor crepuscular', 'Freios ABS', 'Câmbio automático', 'Bancos de couro', 'Central multimídia', 'Vidros elétricos']\n",
        "]\n",
        "dados"
      ]
    },
    {
      "cell_type": "code",
      "source": [
        "for lista in dados:\n",
        "  for item in lista:\n",
        "    print(item)"
      ],
      "metadata": {
        "colab": {
          "base_uri": "https://localhost:8080/"
        },
        "id": "cfqat2atfenP",
        "outputId": "5090c688-e341-44cc-98bc-5f58ce68b5b2"
      },
      "execution_count": 60,
      "outputs": [
        {
          "output_type": "stream",
          "name": "stdout",
          "text": [
            "Rodas de liga\n",
            "Travas elétricas\n",
            "Piloto automático\n",
            "Bancos de couro\n",
            "Ar condicionado\n",
            "Sensor de estacionamento\n",
            "Sensor crepuscular\n",
            "Sensor de chuva\n",
            "Central multimídia\n",
            "Teto panorâmico\n",
            "Freios ABS\n",
            "4 X 4\n",
            "Painel digital\n",
            "Piloto automático\n",
            "Bancos de couro\n",
            "Câmera de estacionamento\n",
            "Piloto automático\n",
            "Controle de estabilidade\n",
            "Sensor crepuscular\n",
            "Freios ABS\n",
            "Câmbio automático\n",
            "Bancos de couro\n",
            "Central multimídia\n",
            "Vidros elétricos\n"
          ]
        }
      ]
    },
    {
      "cell_type": "code",
      "source": [
        "for lista in dados:\n",
        "  for item in lista:\n",
        "    Acessorios.append(item)\n",
        "Acessorios"
      ],
      "metadata": {
        "colab": {
          "base_uri": "https://localhost:8080/"
        },
        "id": "sfYSlWMdferk",
        "outputId": "c24d8f81-5fff-449c-f7ff-7d49fd5ebc89"
      },
      "execution_count": 63,
      "outputs": [
        {
          "output_type": "execute_result",
          "data": {
            "text/plain": [
              "['Ar condicionado',\n",
              " 'Bancos de couro',\n",
              " 'Piloto automático',\n",
              " 'Rodas de liga',\n",
              " 'Sensor crepuscular',\n",
              " 'Sensor de chuva',\n",
              " 'Sensor de estacionamento',\n",
              " 'Travas elétricas',\n",
              " 'Rodas de liga',\n",
              " 'Travas elétricas',\n",
              " 'Piloto automático',\n",
              " 'Bancos de couro',\n",
              " 'Ar condicionado',\n",
              " 'Sensor de estacionamento',\n",
              " 'Sensor crepuscular',\n",
              " 'Sensor de chuva',\n",
              " 'Central multimídia',\n",
              " 'Teto panorâmico',\n",
              " 'Freios ABS',\n",
              " '4 X 4',\n",
              " 'Painel digital',\n",
              " 'Piloto automático',\n",
              " 'Bancos de couro',\n",
              " 'Câmera de estacionamento',\n",
              " 'Piloto automático',\n",
              " 'Controle de estabilidade',\n",
              " 'Sensor crepuscular',\n",
              " 'Freios ABS',\n",
              " 'Câmbio automático',\n",
              " 'Bancos de couro',\n",
              " 'Central multimídia',\n",
              " 'Vidros elétricos',\n",
              " 'Rodas de liga',\n",
              " 'Travas elétricas',\n",
              " 'Piloto automático',\n",
              " 'Bancos de couro',\n",
              " 'Ar condicionado',\n",
              " 'Sensor de estacionamento',\n",
              " 'Sensor crepuscular',\n",
              " 'Sensor de chuva',\n",
              " 'Central multimídia',\n",
              " 'Teto panorâmico',\n",
              " 'Freios ABS',\n",
              " '4 X 4',\n",
              " 'Painel digital',\n",
              " 'Piloto automático',\n",
              " 'Bancos de couro',\n",
              " 'Câmera de estacionamento',\n",
              " 'Piloto automático',\n",
              " 'Controle de estabilidade',\n",
              " 'Sensor crepuscular',\n",
              " 'Freios ABS',\n",
              " 'Câmbio automático',\n",
              " 'Bancos de couro',\n",
              " 'Central multimídia',\n",
              " 'Vidros elétricos']"
            ]
          },
          "metadata": {},
          "execution_count": 63
        }
      ]
    },
    {
      "cell_type": "code",
      "source": [
        "# o termo set é usado para retirar duplicatas e para ajudar a fazer contas matematicas\n",
        "list(set(Acessorios))"
      ],
      "metadata": {
        "colab": {
          "base_uri": "https://localhost:8080/"
        },
        "id": "kzSKKYiIfevw",
        "outputId": "6ee2c979-735b-4aa9-c373-aebf027f1555"
      },
      "execution_count": 65,
      "outputs": [
        {
          "output_type": "execute_result",
          "data": {
            "text/plain": [
              "['Câmbio automático',\n",
              " 'Rodas de liga',\n",
              " 'Teto panorâmico',\n",
              " 'Freios ABS',\n",
              " 'Ar condicionado',\n",
              " 'Piloto automático',\n",
              " 'Controle de estabilidade',\n",
              " 'Câmera de estacionamento',\n",
              " '4 X 4',\n",
              " 'Central multimídia',\n",
              " 'Vidros elétricos',\n",
              " 'Sensor de chuva',\n",
              " 'Bancos de couro',\n",
              " 'Sensor crepuscular',\n",
              " 'Sensor de estacionamento',\n",
              " 'Painel digital',\n",
              " 'Travas elétricas']"
            ]
          },
          "metadata": {},
          "execution_count": 65
        }
      ]
    },
    {
      "cell_type": "code",
      "source": [
        ""
      ],
      "metadata": {
        "id": "A0HH5mdHgVTf"
      },
      "execution_count": null,
      "outputs": []
    },
    {
      "cell_type": "markdown",
      "source": [
        "# Instrução IF ELIF ELSE"
      ],
      "metadata": {
        "id": "K2n-qpDlgXzK"
      }
    },
    {
      "cell_type": "code",
      "execution_count": 66,
      "metadata": {
        "id": "5eY_XPmrltov",
        "colab": {
          "base_uri": "https://localhost:8080/"
        },
        "outputId": "6010f179-7251-49e9-f7b7-a571921a0fbd"
      },
      "outputs": [
        {
          "output_type": "execute_result",
          "data": {
            "text/plain": [
              "[['Jetta Variant', 2003, False],\n",
              " ['Passat', 1991, False],\n",
              " ['Crossfox', 1990, False],\n",
              " ['DS5', 2019, True],\n",
              " ['Aston Martin DB4', 2006, False],\n",
              " ['Palio Weekend', 2012, False],\n",
              " ['A5', 2019, True],\n",
              " ['Série 3 Cabrio', 2009, False],\n",
              " ['Dodge Jorney', 2019, False],\n",
              " ['Carens', 2011, False]]"
            ]
          },
          "metadata": {},
          "execution_count": 66
        }
      ],
      "source": [
        "# 1º item da lista - Nome do veículo\n",
        "# 2º item da lista - Ano de fabricação\n",
        "# 3º item da lista - Veículo é zero km?\n",
        "\n",
        "dados = [\n",
        "    ['Jetta Variant', 2003, False],\n",
        "    ['Passat', 1991, False],\n",
        "    ['Crossfox', 1990, False],\n",
        "    ['DS5', 2019, True],\n",
        "    ['Aston Martin DB4', 2006, False],\n",
        "    ['Palio Weekend', 2012, False],\n",
        "    ['A5', 2019, True],\n",
        "    ['Série 3 Cabrio', 2009, False],\n",
        "    ['Dodge Jorney', 2019, False],\n",
        "    ['Carens', 2011, False]\n",
        "]\n",
        "dados"
      ]
    },
    {
      "cell_type": "code",
      "source": [
        "for lista in dados:\n",
        "  if (lista[1]>2000):\n",
        "    print(lista)"
      ],
      "metadata": {
        "colab": {
          "base_uri": "https://localhost:8080/"
        },
        "id": "9sNsnLTxg9kE",
        "outputId": "86a6d661-83bd-44d0-a54b-0eca9fe6077b"
      },
      "execution_count": 67,
      "outputs": [
        {
          "output_type": "stream",
          "name": "stdout",
          "text": [
            "['Jetta Variant', 2003, False]\n",
            "['DS5', 2019, True]\n",
            "['Aston Martin DB4', 2006, False]\n",
            "['Palio Weekend', 2012, False]\n",
            "['A5', 2019, True]\n",
            "['Série 3 Cabrio', 2009, False]\n",
            "['Dodge Jorney', 2019, False]\n",
            "['Carens', 2011, False]\n"
          ]
        }
      ]
    },
    {
      "cell_type": "code",
      "source": [
        "# Comparando se os itens da lista item[2] são ou ñ 0 km\n",
        "for lista in dados:\n",
        "  if (lista[2] == True):\n",
        "    print(lista)"
      ],
      "metadata": {
        "colab": {
          "base_uri": "https://localhost:8080/"
        },
        "id": "dJ08UsWNg9rM",
        "outputId": "71cd7416-67bf-42eb-ecf3-768c74a79350"
      },
      "execution_count": 69,
      "outputs": [
        {
          "output_type": "stream",
          "name": "stdout",
          "text": [
            "['DS5', 2019, True]\n",
            "['A5', 2019, True]\n"
          ]
        }
      ]
    },
    {
      "cell_type": "code",
      "source": [
        "zero_km, muitos_km = [], []\n",
        "for lista in dados:\n",
        "  if (lista[2] == True):\n",
        "    zero_km.append(lista)\n",
        "  elif (lista[2] == False):\n",
        "    muitos_km.append(lista)"
      ],
      "metadata": {
        "id": "qK5bMSpmg9zD"
      },
      "execution_count": 70,
      "outputs": []
    },
    {
      "cell_type": "code",
      "source": [
        "zero_km"
      ],
      "metadata": {
        "colab": {
          "base_uri": "https://localhost:8080/"
        },
        "id": "k2KHbFjphuSB",
        "outputId": "5b57a724-452b-427c-f52c-37e7a68a541d"
      },
      "execution_count": 71,
      "outputs": [
        {
          "output_type": "execute_result",
          "data": {
            "text/plain": [
              "[['DS5', 2019, True], ['A5', 2019, True]]"
            ]
          },
          "metadata": {},
          "execution_count": 71
        }
      ]
    },
    {
      "cell_type": "code",
      "source": [
        "muitos_km"
      ],
      "metadata": {
        "colab": {
          "base_uri": "https://localhost:8080/"
        },
        "id": "CuMc9RUfhvXx",
        "outputId": "f7c48d5e-1fa7-4148-d7d8-b2d7f2dde11e"
      },
      "execution_count": 72,
      "outputs": [
        {
          "output_type": "execute_result",
          "data": {
            "text/plain": [
              "[['Jetta Variant', 2003, False],\n",
              " ['Passat', 1991, False],\n",
              " ['Crossfox', 1990, False],\n",
              " ['Aston Martin DB4', 2006, False],\n",
              " ['Palio Weekend', 2012, False],\n",
              " ['Série 3 Cabrio', 2009, False],\n",
              " ['Dodge Jorney', 2019, False],\n",
              " ['Carens', 2011, False]]"
            ]
          },
          "metadata": {},
          "execution_count": 72
        }
      ]
    },
    {
      "cell_type": "code",
      "source": [
        "# caso quisermos ñ precisamos usar o ELSE , podemos usar varios elif dps de um if.\n"
      ],
      "metadata": {
        "id": "xTtseKnzhwTx"
      },
      "execution_count": 73,
      "outputs": []
    },
    {
      "cell_type": "code",
      "source": [
        ""
      ],
      "metadata": {
        "id": "4TcNkGmfh8AC"
      },
      "execution_count": null,
      "outputs": []
    },
    {
      "cell_type": "markdown",
      "source": [
        "# Numpy básico"
      ],
      "metadata": {
        "id": "Hx0oYnvPh8VM"
      }
    },
    {
      "cell_type": "code",
      "source": [
        "import numpy as np"
      ],
      "metadata": {
        "id": "huxzIBDGiL-E"
      },
      "execution_count": 84,
      "outputs": []
    },
    {
      "cell_type": "code",
      "source": [
        "# Criando arrays com numpy\n",
        "\n",
        "Cores = np.array(['Blue', 'Red', 'Black', 'White', 'Green'])\n",
        "Cores"
      ],
      "metadata": {
        "colab": {
          "base_uri": "https://localhost:8080/"
        },
        "id": "Ni2IA9pNh-h6",
        "outputId": "019207b3-27eb-4a3d-ce72-248830f1a21d"
      },
      "execution_count": 80,
      "outputs": [
        {
          "output_type": "execute_result",
          "data": {
            "text/plain": [
              "array(['Blue', 'Red', 'Black', 'White', 'Green'], dtype='<U5')"
            ]
          },
          "metadata": {},
          "execution_count": 80
        }
      ]
    },
    {
      "cell_type": "code",
      "source": [
        "np.arange(10)"
      ],
      "metadata": {
        "colab": {
          "base_uri": "https://localhost:8080/"
        },
        "id": "dgcRbffxiRye",
        "outputId": "98fff893-9c99-4f97-ef9e-e1bfb835b41a"
      },
      "execution_count": 83,
      "outputs": [
        {
          "output_type": "execute_result",
          "data": {
            "text/plain": [
              "array([0, 1, 2, 3, 4, 5, 6, 7, 8, 9])"
            ]
          },
          "metadata": {},
          "execution_count": 83
        }
      ]
    },
    {
      "cell_type": "code",
      "source": [
        "# Criando array apartir de links externos\n",
        "valor = np.loadtxt(fname = 'carros-valor.txt', dtype = float)\n",
        "valor"
      ],
      "metadata": {
        "colab": {
          "base_uri": "https://localhost:8080/"
        },
        "id": "2_GFYp5TihnH",
        "outputId": "99ca8fae-8b50-46a4-ac50-0619e274b51b"
      },
      "execution_count": 89,
      "outputs": [
        {
          "output_type": "execute_result",
          "data": {
            "text/plain": [
              "array([ 88078.64, 106161.94,  72832.16, 124549.07,  92612.1 ,  97497.73,\n",
              "        56445.2 , 112310.44, 120716.27,  76566.49,  71647.59,  73919.53,\n",
              "       112732.99,  53183.38, 127488.42,  59910.4 ,  61118.59,  88552.39,\n",
              "        62696.69, 101726.3 , 106147.38,  94564.4 , 133529.84, 125684.65,\n",
              "       121596.21,  71367.1 ,  95347.75, 105432.84,  57045.27, 120432.7 ,\n",
              "        70707.2 ,  69105.18,  59358.69,  65955.4 ,  60017.03, 118909.52,\n",
              "        51606.59, 123281.87,  69770.18, 102609.54,  67997.19, 135235.29,\n",
              "        86641.34, 136818.39, 117626.73,  56208.7 ,  84222.65,  90781.65,\n",
              "        64701.1 , 126350.49, 148152.89, 132298.83, 137627.63,  80422.71,\n",
              "        56373.99,  70846.03, 128694.23, 133329.19, 131961.43, 112033.27,\n",
              "        81399.35,  97163.1 ,  66007.16, 128776.22, 142623.02, 136930.13,\n",
              "        66526.61, 114154.87, 142392.75, 146716.91, 122485.68,  97951.03,\n",
              "        78283.49,  83434.04,  77836.23,  60813.92,  91353.86, 116281.21,\n",
              "       145197.7 ,  50742.1 ,  73033.53,  54332.87,  52207.45,  63578.5 ,\n",
              "        64507.72, 115075.59, 133030.6 , 141591.86, 100380.28,  96369.04,\n",
              "       142603.84, 117709.67, 102241.54,  96065.38,  53894.61, 123911.78,\n",
              "       101996.35,  83431.66, 122975.63,  93227.73,  58762.65, 139549.67,\n",
              "       122016.42,  72731.98,  88416.54,  73873.42,  70709.34, 115306.5 ,\n",
              "        55924.63,  85052.26,  56646.34, 138946.88, 108256.72,  58979.3 ,\n",
              "       114727.68, 139661.48,  80382.24, 149157.17,  87830.41, 143568.22,\n",
              "       138171.85, 115784.95, 146508.99, 137670.23, 138597.27, 147627.81,\n",
              "        62999.02,  91242.44, 149489.92,  63529.95,  58525.41,  90345.05,\n",
              "       147770.87, 106617.71, 104929.88, 100712.45, 141982.93, 104038.79,\n",
              "        88501.54,  79782.02,  86224.1 , 103596.18, 148996.47,  60948.01,\n",
              "        69535.44, 111130.33,  65847.69,  78096.06,  69219.89, 144118.91,\n",
              "        77397.05,  68974.25, 125231.3 ,  85501.12, 137116.21, 138823.81,\n",
              "       117961.95, 132662.32, 146405.79,  81999.21, 140934.6 ,  82366.81,\n",
              "        70424.11,  53620.31,  73389.18, 111618.12, 112187.37, 120812.57,\n",
              "       116031.04, 125398.11,  76101.47,  75263.24, 147387.76,  85311.4 ,\n",
              "        54388.11, 124156.65, 146203.34,  56453.94,  68873.79,  91667.61,\n",
              "        93776.52,  66433.82, 109059.27, 122069.97, 113090.32,  89401.1 ,\n",
              "        56842.79, 146676.71,  89511.96,  97290.18, 120673.56, 114434.94,\n",
              "       139546.69,  95078.16,  68091.77,  61496.97, 139669.3 ,  80661.39,\n",
              "        61783.65,  52805.91, 127024.75, 135543.  , 121708.73, 107342.68,\n",
              "        57888.1 , 118161.48, 142499.06, 128396.11, 112350.61, 124661.38,\n",
              "        54263.16,  62041.32, 129296.11,  60998.33,  58008.5 ,  82304.19,\n",
              "       114531.74, 128565.61, 126488.26, 119074.55, 130238.04, 115760.17,\n",
              "       121248.  ,  98156.35, 112146.8 , 102729.63, 141083.35, 102968.76,\n",
              "        76310.01, 120481.74,  54559.18,  92957.64, 127810.06,  73311.75,\n",
              "        65138.03,  90141.47,  71160.36,  67539.79,  67664.86,  68652.16,\n",
              "       114728.74, 141645.08, 126247.84, 128852.21, 132384.76, 129415.33,\n",
              "        89536.82,  87975.3 ,  77675.79,  58881.67,  55081.99, 118826.44,\n",
              "       137627.62,  51759.58,  51667.06,  68934.03, 122110.9 ,  90381.47])"
            ]
          },
          "metadata": {},
          "execution_count": 89
        }
      ]
    },
    {
      "cell_type": "code",
      "source": [
        "# Arrays com duas dimensões , por exemplo 10 linhas e 2 colunas ou igual abaixo.\n",
        "dados = [ \n",
        "    ['Rodas de liga', 'Travas elétricas', 'Piloto automático', 'Bancos de couro', 'Ar condicionado', 'Sensor de estacionamento', 'Sensor crepuscular', 'Sensor de chuva'],\n",
        "    ['Central multimídia', 'Teto panorâmico', 'Freios ABS', '4 X 4', 'Painel digital', 'Piloto automático', 'Bancos de couro', 'Câmera de estacionamento'],\n",
        "    ['Piloto automático', 'Controle de estabilidade', 'Sensor crepuscular', 'Freios ABS', 'Câmbio automático', 'Bancos de couro', 'Central multimídia', 'Vidros elétricos']\n",
        "]\n",
        "dados"
      ],
      "metadata": {
        "colab": {
          "base_uri": "https://localhost:8080/"
        },
        "id": "Qsb7sj1Wi3fJ",
        "outputId": "f4fd1164-5e5d-4af6-cf2d-9a996bdf4d6d"
      },
      "execution_count": 90,
      "outputs": [
        {
          "output_type": "execute_result",
          "data": {
            "text/plain": [
              "[['Rodas de liga',\n",
              "  'Travas elétricas',\n",
              "  'Piloto automático',\n",
              "  'Bancos de couro',\n",
              "  'Ar condicionado',\n",
              "  'Sensor de estacionamento',\n",
              "  'Sensor crepuscular',\n",
              "  'Sensor de chuva'],\n",
              " ['Central multimídia',\n",
              "  'Teto panorâmico',\n",
              "  'Freios ABS',\n",
              "  '4 X 4',\n",
              "  'Painel digital',\n",
              "  'Piloto automático',\n",
              "  'Bancos de couro',\n",
              "  'Câmera de estacionamento'],\n",
              " ['Piloto automático',\n",
              "  'Controle de estabilidade',\n",
              "  'Sensor crepuscular',\n",
              "  'Freios ABS',\n",
              "  'Câmbio automático',\n",
              "  'Bancos de couro',\n",
              "  'Central multimídia',\n",
              "  'Vidros elétricos']]"
            ]
          },
          "metadata": {},
          "execution_count": 90
        }
      ]
    },
    {
      "cell_type": "code",
      "source": [
        "dados[0]"
      ],
      "metadata": {
        "colab": {
          "base_uri": "https://localhost:8080/"
        },
        "id": "03n-kJIcjLn8",
        "outputId": "eb1abb5c-be9e-4bc7-bedb-6d09770fa030"
      },
      "execution_count": 91,
      "outputs": [
        {
          "output_type": "execute_result",
          "data": {
            "text/plain": [
              "['Rodas de liga',\n",
              " 'Travas elétricas',\n",
              " 'Piloto automático',\n",
              " 'Bancos de couro',\n",
              " 'Ar condicionado',\n",
              " 'Sensor de estacionamento',\n",
              " 'Sensor crepuscular',\n",
              " 'Sensor de chuva']"
            ]
          },
          "metadata": {},
          "execution_count": 91
        }
      ]
    },
    {
      "cell_type": "code",
      "source": [
        "dados[1]"
      ],
      "metadata": {
        "colab": {
          "base_uri": "https://localhost:8080/"
        },
        "id": "LJ9_OEyGjLwn",
        "outputId": "31748799-6c48-4061-907a-e28a801b77d2"
      },
      "execution_count": 92,
      "outputs": [
        {
          "output_type": "execute_result",
          "data": {
            "text/plain": [
              "['Central multimídia',\n",
              " 'Teto panorâmico',\n",
              " 'Freios ABS',\n",
              " '4 X 4',\n",
              " 'Painel digital',\n",
              " 'Piloto automático',\n",
              " 'Bancos de couro',\n",
              " 'Câmera de estacionamento']"
            ]
          },
          "metadata": {},
          "execution_count": 92
        }
      ]
    },
    {
      "cell_type": "code",
      "source": [
        "# Operações aritiméticas om array numpy"
      ],
      "metadata": {
        "id": "O_7sROaUjL3V"
      },
      "execution_count": 100,
      "outputs": []
    },
    {
      "cell_type": "code",
      "execution_count": 99,
      "metadata": {
        "id": "s8GvEk4HltpI"
      },
      "outputs": [],
      "source": [
        "km = np.array([44410., 5712., 37123., 500., 25757.])\n",
        "anos = np.array([2003, 1991, 1990, 2019, 2006])"
      ]
    },
    {
      "cell_type": "code",
      "source": [
        " km_anual = km / ( 2022 - anos)\n",
        " km_anual"
      ],
      "metadata": {
        "colab": {
          "base_uri": "https://localhost:8080/"
        },
        "id": "qodQqvH4jThc",
        "outputId": "6814a206-fb79-4922-bf1a-10a959cb3a63"
      },
      "execution_count": 102,
      "outputs": [
        {
          "output_type": "execute_result",
          "data": {
            "text/plain": [
              "array([2337.36842105,  184.25806452, 1160.09375   ,  166.66666667,\n",
              "       1609.8125    ])"
            ]
          },
          "metadata": {},
          "execution_count": 102
        }
      ]
    },
    {
      "cell_type": "code",
      "source": [
        "# Operações com arrays de duas dimensões"
      ],
      "metadata": {
        "id": "9t5uP0LyjrKX"
      },
      "execution_count": null,
      "outputs": []
    },
    {
      "cell_type": "code",
      "execution_count": 103,
      "metadata": {
        "id": "imANn6HultpQ",
        "colab": {
          "base_uri": "https://localhost:8080/"
        },
        "outputId": "30375153-e46f-4363-862c-b0a52f03ebee"
      },
      "outputs": [
        {
          "output_type": "execute_result",
          "data": {
            "text/plain": [
              "array([[44410,  5700, 37200,   500, 25000],\n",
              "       [ 2003,  2006,  2009,  2012,  2015]])"
            ]
          },
          "metadata": {},
          "execution_count": 103
        }
      ],
      "source": [
        "dados = np.array([[44410, 5700, 37200, 500, 25000],\n",
        "                  [2003,  2006, 2009, 2012, 2015  ]])\n",
        "dados"
      ]
    },
    {
      "cell_type": "code",
      "source": [
        "dados[1]"
      ],
      "metadata": {
        "colab": {
          "base_uri": "https://localhost:8080/"
        },
        "id": "mPU9nC38j8Gd",
        "outputId": "1ad7969e-6227-42de-e3a9-f7dcf110dd5e"
      },
      "execution_count": 104,
      "outputs": [
        {
          "output_type": "execute_result",
          "data": {
            "text/plain": [
              "array([2003, 2006, 2009, 2012, 2015])"
            ]
          },
          "metadata": {},
          "execution_count": 104
        }
      ]
    },
    {
      "cell_type": "code",
      "source": [
        "# dados[1] vai para segunda linha 2003 até 2015 e o ',2 ' vai para o segundo item '' 2009 ''\n",
        "dados[1,2]"
      ],
      "metadata": {
        "colab": {
          "base_uri": "https://localhost:8080/"
        },
        "id": "r8CAtGdCj8KM",
        "outputId": "767a6efc-60bd-4973-9ec6-f65ddefca7ca"
      },
      "execution_count": 107,
      "outputs": [
        {
          "output_type": "execute_result",
          "data": {
            "text/plain": [
              "2009"
            ]
          },
          "metadata": {},
          "execution_count": 107
        }
      ]
    },
    {
      "cell_type": "code",
      "source": [
        "km_total = dados[0,2] / (2022 - dados[1,2])\n",
        "km_total"
      ],
      "metadata": {
        "colab": {
          "base_uri": "https://localhost:8080/"
        },
        "id": "dXv88-1aa_i0",
        "outputId": "b3edd9a5-d239-4a62-fd35-793c3ff59aa5"
      },
      "execution_count": 111,
      "outputs": [
        {
          "output_type": "execute_result",
          "data": {
            "text/plain": [
              "2861.5384615384614"
            ]
          },
          "metadata": {},
          "execution_count": 111
        }
      ]
    },
    {
      "cell_type": "markdown",
      "source": [
        "# Atributos com numpy"
      ],
      "metadata": {
        "id": "csTYqDbWki4z"
      }
    },
    {
      "cell_type": "code",
      "source": [
        "# ndarray.shape\n",
        "# Retorna uma tupla com as dimensões do array.\n",
        "dados.shape\n",
        "# 2 linhas e 5 colunas no item dados"
      ],
      "metadata": {
        "colab": {
          "base_uri": "https://localhost:8080/"
        },
        "id": "4Y6iSZ0eklKm",
        "outputId": "55db5163-58bc-45fa-95fb-4c236e31ff98"
      },
      "execution_count": 115,
      "outputs": [
        {
          "output_type": "execute_result",
          "data": {
            "text/plain": [
              "(2, 5)"
            ]
          },
          "metadata": {},
          "execution_count": 115
        }
      ]
    },
    {
      "cell_type": "markdown",
      "metadata": {
        "id": "XaY6oXkmltpp"
      },
      "source": [
        "## *ndarray.ndim*\n",
        "\n",
        "Retorna o número de dimensões do array."
      ]
    },
    {
      "cell_type": "code",
      "execution_count": 118,
      "metadata": {
        "id": "inJ4HDjaltpq",
        "colab": {
          "base_uri": "https://localhost:8080/"
        },
        "outputId": "5eefd1be-6b98-4f6e-9427-c932f681b6d7"
      },
      "outputs": [
        {
          "output_type": "execute_result",
          "data": {
            "text/plain": [
              "2"
            ]
          },
          "metadata": {},
          "execution_count": 118
        }
      ],
      "source": [
        "# ndarray.ndim\n",
        "# Retorna o número de dimensões do array.\n",
        "dados.ndim\n"
      ]
    },
    {
      "cell_type": "code",
      "source": [
        "# ndarray.size\n",
        "# Retorna o número de elementos do array.\n",
        "dados.size"
      ],
      "metadata": {
        "colab": {
          "base_uri": "https://localhost:8080/"
        },
        "id": "Zlyvjzbck_mZ",
        "outputId": "24c67e08-c753-4a72-e4f2-80a09a77f526"
      },
      "execution_count": 119,
      "outputs": [
        {
          "output_type": "execute_result",
          "data": {
            "text/plain": [
              "10"
            ]
          },
          "metadata": {},
          "execution_count": 119
        }
      ]
    },
    {
      "cell_type": "code",
      "source": [
        "# ndarray.dtype\n",
        "# Retorna o tipo de dados dos elementos do array.\n",
        "dados.dtype"
      ],
      "metadata": {
        "colab": {
          "base_uri": "https://localhost:8080/"
        },
        "id": "6Sy22nPFlH1b",
        "outputId": "f3023c25-4cae-4868-8cd1-c74fd9c3aa40"
      },
      "execution_count": 120,
      "outputs": [
        {
          "output_type": "execute_result",
          "data": {
            "text/plain": [
              "dtype('int64')"
            ]
          },
          "metadata": {},
          "execution_count": 120
        }
      ]
    },
    {
      "cell_type": "code",
      "source": [
        "# ndarray.T\n",
        "# Retorna o array transposto, isto é, converte linhas em colunas e vice versa.\n",
        "dados.T"
      ],
      "metadata": {
        "colab": {
          "base_uri": "https://localhost:8080/"
        },
        "id": "AOxe1IcklMPj",
        "outputId": "7b6d1129-ddbd-42e3-dea3-94fdace28b56"
      },
      "execution_count": 121,
      "outputs": [
        {
          "output_type": "execute_result",
          "data": {
            "text/plain": [
              "array([[44410,  2003],\n",
              "       [ 5700,  2006],\n",
              "       [37200,  2009],\n",
              "       [  500,  2012],\n",
              "       [25000,  2015]])"
            ]
          },
          "metadata": {},
          "execution_count": 121
        }
      ]
    },
    {
      "cell_type": "code",
      "source": [
        "# ndarray.tolist()\n",
        "# Retorna o array como uma lista Python.\n",
        "dados.tolist()"
      ],
      "metadata": {
        "colab": {
          "base_uri": "https://localhost:8080/"
        },
        "id": "SBfiI5g9lRR1",
        "outputId": "68fbf328-5164-41a3-fd22-0d55d45825f9"
      },
      "execution_count": 122,
      "outputs": [
        {
          "output_type": "execute_result",
          "data": {
            "text/plain": [
              "[[44410, 5700, 37200, 500, 25000], [2003, 2006, 2009, 2012, 2015]]"
            ]
          },
          "metadata": {},
          "execution_count": 122
        }
      ]
    },
    {
      "cell_type": "code",
      "source": [
        "# ndarray.reshape(shape[, order])\n",
        "# Retorna um array que contém os mesmos dados com uma nova forma.\n"
      ],
      "metadata": {
        "id": "3h273oWulXSd"
      },
      "execution_count": 126,
      "outputs": []
    },
    {
      "cell_type": "code",
      "source": [
        "# ndarray.resize(new_shape[, refcheck])\n",
        "# Altera a forma e o tamanho do array."
      ],
      "metadata": {
        "id": "PGhzdCVYlhuG"
      },
      "execution_count": null,
      "outputs": []
    }
  ]
}